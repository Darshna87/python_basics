{
 "cells": [
  {
   "cell_type": "code",
   "execution_count": 225,
   "metadata": {},
   "outputs": [],
   "source": [
    "class Passenger:\n",
    "    \n",
    "    no_of_passengers=0\n",
    "    \n",
    "    def __init__(self,pass_no,arrival_time,floor):\n",
    "        self.pass_no=pass_no\n",
    "        self.arrival_time=arrival_time\n",
    "        self.floor=floor\n",
    "        \n",
    "        Passenger.no_of_passengers+=1\n",
    "        print(\"No of Passangers: {0}\".format(Passenger.no_of_passengers))\n",
    "    \n",
    "    def details(self):\n",
    "        print(\"{0}  |  {1}  |  {2}\".format(self.pass_no,self.arrival_time,self.floor))\n",
    "        return(self.pass_no,self.arrival_time,self.floor)\n",
    "    "
   ]
  },
  {
   "cell_type": "code",
   "execution_count": 226,
   "metadata": {},
   "outputs": [],
   "source": [
    "class Elevetor(Passenger):\n",
    "    \n",
    "    no_of_trips=0\n",
    "    time=0\n",
    "    pas=False\n",
    "    floor=0\n",
    "    \n",
    "    def __init__(self,pass_no,arrival_time,floor):\n",
    "        super().__init__(pass_no,arrival_time,floor)\n",
    "        \n",
    "    def Calculate_time(self):\n",
    "        \n",
    "        self.pass_no,self.arrival_time,self.floor=super().details()\n",
    "        \n",
    "        if Elevetor.pas==False:\n",
    "            Elevetor.pas=True\n",
    "            Elevetor.floor=self.floor\n",
    "            Elevetor.time+=Elevetor.floor+2\n",
    "            Elevetor.no_of_trips+=1\n",
    "        \n",
    "        else:\n",
    "            Elevetor.pas=False\n",
    "            Elevetor.floor=abs(Elevetor.floor-self.floor)\n",
    "            Elevetor.time+=Elevetor.floor\n",
    "            \n",
    "        print(Elevetor.time)\n",
    "      \n",
    "    def total_time(self):\n",
    "        \n",
    "       # Elevetor.time+=Elevetor.floor+2\n",
    "        #Elevetor.no_of_trips+=1\n",
    "        print(\"Total time for the trips is {0}\".format(Elevetor.time))\n",
    "    \n",
    "    def total_trips(self):\n",
    "        print(\"{0} trips are done by the elevator\".format(Elevetor.no_of_trips))\n",
    "        return\n",
    "        "
   ]
  },
  {
   "cell_type": "code",
   "execution_count": 227,
   "metadata": {},
   "outputs": [
    {
     "name": "stdout",
     "output_type": "stream",
     "text": [
      "No of Passangers: 1\n"
     ]
    }
   ],
   "source": [
    "p1=Elevetor('P1',1,1)"
   ]
  },
  {
   "cell_type": "code",
   "execution_count": 228,
   "metadata": {},
   "outputs": [
    {
     "name": "stdout",
     "output_type": "stream",
     "text": [
      "No of Passangers: 2\n"
     ]
    }
   ],
   "source": [
    "p2=Elevetor('P2',2,2)"
   ]
  },
  {
   "cell_type": "code",
   "execution_count": 229,
   "metadata": {},
   "outputs": [
    {
     "name": "stdout",
     "output_type": "stream",
     "text": [
      "P1  |  1  |  1\n",
      "3\n"
     ]
    }
   ],
   "source": [
    "p1.Calculate_time()"
   ]
  },
  {
   "cell_type": "code",
   "execution_count": 230,
   "metadata": {},
   "outputs": [
    {
     "name": "stdout",
     "output_type": "stream",
     "text": [
      "P2  |  2  |  2\n",
      "4\n"
     ]
    }
   ],
   "source": [
    "p2.Calculate_time()"
   ]
  },
  {
   "cell_type": "code",
   "execution_count": 231,
   "metadata": {},
   "outputs": [
    {
     "name": "stdout",
     "output_type": "stream",
     "text": [
      "No of Passangers: 3\n"
     ]
    }
   ],
   "source": [
    "p3=Elevetor('P3',3,3)"
   ]
  },
  {
   "cell_type": "code",
   "execution_count": 232,
   "metadata": {},
   "outputs": [
    {
     "name": "stdout",
     "output_type": "stream",
     "text": [
      "P3  |  3  |  3\n",
      "9\n"
     ]
    }
   ],
   "source": [
    "p3.Calculate_time()"
   ]
  },
  {
   "cell_type": "code",
   "execution_count": 233,
   "metadata": {},
   "outputs": [
    {
     "name": "stdout",
     "output_type": "stream",
     "text": [
      "No of Passangers: 4\n"
     ]
    }
   ],
   "source": [
    "p4=Elevetor('P4',4,1)"
   ]
  },
  {
   "cell_type": "code",
   "execution_count": 234,
   "metadata": {},
   "outputs": [
    {
     "name": "stdout",
     "output_type": "stream",
     "text": [
      "P4  |  4  |  1\n",
      "11\n"
     ]
    }
   ],
   "source": [
    "p4.Calculate_time()"
   ]
  },
  {
   "cell_type": "code",
   "execution_count": 235,
   "metadata": {},
   "outputs": [
    {
     "name": "stdout",
     "output_type": "stream",
     "text": [
      "No of Passangers: 5\n"
     ]
    }
   ],
   "source": [
    "p5=Elevetor('P5',5,2)"
   ]
  },
  {
   "cell_type": "code",
   "execution_count": 236,
   "metadata": {},
   "outputs": [
    {
     "name": "stdout",
     "output_type": "stream",
     "text": [
      "P5  |  5  |  2\n",
      "15\n"
     ]
    }
   ],
   "source": [
    "p5.Calculate_time()"
   ]
  },
  {
   "cell_type": "code",
   "execution_count": 237,
   "metadata": {},
   "outputs": [
    {
     "name": "stdout",
     "output_type": "stream",
     "text": [
      "Total time for the trips is 15\n"
     ]
    }
   ],
   "source": [
    "p5.total_time()"
   ]
  },
  {
   "cell_type": "code",
   "execution_count": 238,
   "metadata": {},
   "outputs": [
    {
     "name": "stdout",
     "output_type": "stream",
     "text": [
      "3 trips are done by the elevator\n"
     ]
    }
   ],
   "source": [
    "p5.total_trips()"
   ]
  },
  {
   "cell_type": "code",
   "execution_count": null,
   "metadata": {},
   "outputs": [],
   "source": []
  }
 ],
 "metadata": {
  "kernelspec": {
   "display_name": "Python 3",
   "language": "python",
   "name": "python3"
  },
  "language_info": {
   "codemirror_mode": {
    "name": "ipython",
    "version": 3
   },
   "file_extension": ".py",
   "mimetype": "text/x-python",
   "name": "python",
   "nbconvert_exporter": "python",
   "pygments_lexer": "ipython3",
   "version": "3.8.5"
  }
 },
 "nbformat": 4,
 "nbformat_minor": 4
}
